{
 "cells": [
  {
   "attachments": {},
   "cell_type": "markdown",
   "metadata": {},
   "source": [
    "Módulo 1 - Aula 4 - (11/jan/2023)"
   ]
  },
  {
   "cell_type": "code",
   "execution_count": 9,
   "metadata": {},
   "outputs": [
    {
     "name": "stdout",
     "output_type": "stream",
     "text": [
      "Número digitado  >>> 5.\n",
      "Número de bits   >>> 3.\n",
      "Valor em binário >>> 0b101.\n"
     ]
    }
   ],
   "source": [
    "# Número de bits e valor binário\n",
    "num = int(input('Digite um número inteiro: '))\n",
    "print(f'Número digitado  >>> {num}.')\n",
    "bits = num.bit_length()\n",
    "print(f'Número de bits   >>> {bits}.')\n",
    "r = bin(num)\n",
    "print(f'Valor em binário >>> {r}.')"
   ]
  }
 ],
 "metadata": {
  "kernelspec": {
   "display_name": "Python 3",
   "language": "python",
   "name": "python3"
  },
  "language_info": {
   "codemirror_mode": {
    "name": "ipython",
    "version": 3
   },
   "file_extension": ".py",
   "mimetype": "text/x-python",
   "name": "python",
   "nbconvert_exporter": "python",
   "pygments_lexer": "ipython3",
   "version": "3.10.6 (main, Nov 14 2022, 16:10:14) [GCC 11.3.0]"
  },
  "orig_nbformat": 4,
  "vscode": {
   "interpreter": {
    "hash": "916dbcbb3f70747c44a77c7bcd40155683ae19c65e1c03b4aa3499c5328201f1"
   }
  }
 },
 "nbformat": 4,
 "nbformat_minor": 2
}
