{
 "cells": [
  {
   "cell_type": "markdown",
   "metadata": {},
   "source": [
    "Módulo 1 - Aula 7 - (11/jan/2023)"
   ]
  },
  {
   "attachments": {},
   "cell_type": "markdown",
   "metadata": {},
   "source": [
    "Sistemas numéricos - decimal -> conversão bin"
   ]
  },
  {
   "cell_type": "code",
   "execution_count": 14,
   "metadata": {},
   "outputs": [
    {
     "name": "stdout",
     "output_type": "stream",
     "text": [
      "VALOR BASE 10 >>> (10)_10\n",
      "VALOR BASE 2 >>> ([1, 0, 1, 1])_2\n"
     ]
    }
   ],
   "source": [
    "#\n",
    "val = int(input('Digite o valor decimal: '))\n",
    "print(f'VALOR BASE 10 >>> ({val})_10')\n",
    "#\n",
    "# Parte inteira da divisão\n",
    "val = int(val/2)\n",
    "num = []\n",
    "# Resto da divisão\n",
    "num.append(val%2)\n",
    "#\n",
    "while(val >= 1):\n",
    "    num.append(val%2)\n",
    "    val = int(val/2)\n",
    "\n",
    "#Invertendo os elementos da lista e \n",
    "# salvando na própria lista.\n",
    "num = num[::-1]\n",
    "#\n",
    "print(f'VALOR BASE 2 >>> ({num})_2') "
   ]
  },
  {
   "cell_type": "code",
   "execution_count": null,
   "metadata": {},
   "outputs": [],
   "source": []
  }
 ],
 "metadata": {
  "kernelspec": {
   "display_name": "Python 3",
   "language": "python",
   "name": "python3"
  },
  "language_info": {
   "codemirror_mode": {
    "name": "ipython",
    "version": 3
   },
   "file_extension": ".py",
   "mimetype": "text/x-python",
   "name": "python",
   "nbconvert_exporter": "python",
   "pygments_lexer": "ipython3",
   "version": "3.10.6"
  },
  "orig_nbformat": 4,
  "vscode": {
   "interpreter": {
    "hash": "916dbcbb3f70747c44a77c7bcd40155683ae19c65e1c03b4aa3499c5328201f1"
   }
  }
 },
 "nbformat": 4,
 "nbformat_minor": 2
}
