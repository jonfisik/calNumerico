{
 "cells": [
  {
   "attachments": {},
   "cell_type": "markdown",
   "metadata": {},
   "source": [
    "Módulo 1 - Aula 7 - (11/jan/2023)"
   ]
  },
  {
   "attachments": {},
   "cell_type": "markdown",
   "metadata": {},
   "source": [
    "Sistemas numéricos - conversão bin -> decimal"
   ]
  },
  {
   "cell_type": "code",
   "execution_count": null,
   "metadata": {},
   "outputs": [],
   "source": [
    "#\n",
    "val = input('Digite um número binário: ')\n",
    "print(f'O valor digitado é ({val})_2')\n",
    "#\n",
    "lv = len(val)\n",
    "#\n",
    "num = int(val[0])\n",
    "for i in range(1,lv):\n",
    "    num = int(val[i]) + 2*num\n",
    "\n",
    "num = num + int(val[-1])\n",
    "\n",
    "print(f'Valor ({val})_2 na base 10 é ({num})_10')"
   ]
  }
 ],
 "metadata": {
  "kernelspec": {
   "display_name": "Python 3",
   "language": "python",
   "name": "python3"
  },
  "language_info": {
   "codemirror_mode": {
    "name": "ipython",
    "version": 3
   },
   "file_extension": ".py",
   "mimetype": "text/x-python",
   "name": "python",
   "nbconvert_exporter": "python",
   "pygments_lexer": "ipython3",
   "version": "3.10.6"
  },
  "orig_nbformat": 4,
  "vscode": {
   "interpreter": {
    "hash": "916dbcbb3f70747c44a77c7bcd40155683ae19c65e1c03b4aa3499c5328201f1"
   }
  }
 },
 "nbformat": 4,
 "nbformat_minor": 2
}
