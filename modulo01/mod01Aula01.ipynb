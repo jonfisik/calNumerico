{
 "cells": [
  {
   "attachments": {},
   "cell_type": "markdown",
   "metadata": {},
   "source": [
    "Módulo 1 - Aula 1 - (10/jan/2023)"
   ]
  },
  {
   "cell_type": "code",
   "execution_count": null,
   "metadata": {},
   "outputs": [],
   "source": [
    "x = 0.1 + 0.1 + 0.1\n",
    "print(f'x = {x}.')"
   ]
  },
  {
   "cell_type": "code",
   "execution_count": null,
   "metadata": {},
   "outputs": [],
   "source": [
    "n = 30000\n",
    "valor = 0.5\n",
    "lista1 = [valor]*n\n",
    "#Comprimento - len()\n",
    "print(f'Número de elementos - {len(lista1)}')\n",
    "#Soma de uma lista sum()\n",
    "print(f'Soma, {n} x {valor} = {sum(lista1)}')\n",
    "#print(lista1)"
   ]
  },
  {
   "cell_type": "code",
   "execution_count": null,
   "metadata": {},
   "outputs": [],
   "source": [
    "n = 30000\n",
    "valor = 0.1\n",
    "lista2 = [valor]*n\n",
    "#Comprimento - len()\n",
    "print(f'Número de elementos - {len(lista2)}')\n",
    "#Soma de uma lista sum()\n",
    "print(f'Soma, {n} x {valor} = {sum(lista2)}')\n",
    "#print(lista2)"
   ]
  }
 ],
 "metadata": {
  "kernelspec": {
   "display_name": "Python 3",
   "language": "python",
   "name": "python3"
  },
  "language_info": {
   "codemirror_mode": {
    "name": "ipython",
    "version": 3
   },
   "file_extension": ".py",
   "mimetype": "text/x-python",
   "name": "python",
   "nbconvert_exporter": "python",
   "pygments_lexer": "ipython3",
   "version": "3.10.6 (main, Nov 14 2022, 16:10:14) [GCC 11.3.0]"
  },
  "orig_nbformat": 4,
  "vscode": {
   "interpreter": {
    "hash": "916dbcbb3f70747c44a77c7bcd40155683ae19c65e1c03b4aa3499c5328201f1"
   }
  }
 },
 "nbformat": 4,
 "nbformat_minor": 2
}
